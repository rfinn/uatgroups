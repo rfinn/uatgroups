{
 "cells": [
  {
   "cell_type": "markdown",
   "metadata": {},
   "source": [
    "# Goal\n",
    "\n",
    "Get biweight center and scale for all of the groups in our Halpha Groups sample."
   ]
  },
  {
   "cell_type": "code",
   "execution_count": 19,
   "metadata": {},
   "outputs": [],
   "source": [
    "from astropy.io import fits\n",
    "from astropy.io import ascii\n",
    "from astropy.coordinates import SkyCoord\n",
    "from astropy import units as u\n",
    "from astropy.stats import biweight_scale,biweight_location,SigmaClip\n",
    "import os\n",
    "from matplotlib.patches import Rectangle\n",
    "import numpy as np\n",
    "from matplotlib import pyplot as plt"
   ]
  },
  {
   "cell_type": "code",
   "execution_count": 53,
   "metadata": {},
   "outputs": [],
   "source": [
    "def get_biweight(z,nsigma=2):\n",
    "    \"\"\"pass in redshift of galaxies in the vicinity of a group\"\"\"\n",
    "    from astropy.stats import sigma_clip\n",
    "    #sigclip = SigmaClip(sigma=scale_cut,maxiters=10,cenfunc=biweight_location,stdfunc=biweight_scale)\n",
    "    good_data = sigma_clip(z, sigma=nsigma, maxiters=10, stdfunc=biweight_scale,cenfunc=biweight_location)\n",
    "    return good_data\n"
   ]
  },
  {
   "cell_type": "code",
   "execution_count": 48,
   "metadata": {},
   "outputs": [],
   "source": [
    "# create a test dataset\n",
    "realsigma = 350\n",
    "realcenter = 2200\n",
    "realZ = np.random.normal(loc=realcenter,scale=realsigma,size=100)\n",
    "noiseZ = np.random.uniform(100,5000,size=100)\n",
    "testZ = np.array(realZ.tolist()+noiseZ.tolist())\n",
    "goodZ = get_biweight(testZ,nsigma=2)"
   ]
  },
  {
   "cell_type": "code",
   "execution_count": 49,
   "metadata": {},
   "outputs": [
    {
     "data": {
      "text/plain": [
       "(array([ 1.,  0.,  3., 10., 18., 17., 27., 18.,  5.,  1.]),\n",
       " array([ 778.02527322, 1026.93986084, 1275.85444846, 1524.76903607,\n",
       "        1773.68362369, 2022.59821131, 2271.51279893, 2520.42738655,\n",
       "        2769.34197417, 3018.25656179, 3267.17114941]),\n",
       " [<matplotlib.patches.Polygon at 0x7f62e264df10>])"
      ]
     },
     "execution_count": 49,
     "metadata": {},
     "output_type": "execute_result"
    },
    {
     "data": {
      "image/png": "[encoded data removed]",
      "text/plain": [
       "<Figure size 432x288 with 1 Axes>"
      ]
     },
     "metadata": {
      "needs_background": "light"
     },
     "output_type": "display_data"
    }
   ],
   "source": [
    "\n",
    "plt.hist(testZ)\n",
    "plt.hist(goodZ[~goodZ.mask])\n",
    "plt.hist(realZ,histtype='step')"
   ]
  },
  {
   "cell_type": "code",
   "execution_count": 50,
   "metadata": {},
   "outputs": [
    {
     "name": "stdout",
     "output_type": "stream",
     "text": [
      "2200 2240.646705623918\n",
      "350 410.0149084896051\n"
     ]
    }
   ],
   "source": [
    "# measure the location and scale from the clipped data\n",
    "print(realcenter,biweight_location(goodZ[~goodZ.mask]))\n",
    "print(realsigma,biweight_scale(goodZ[~goodZ.mask]))"
   ]
  },
  {
   "cell_type": "code",
   "execution_count": 51,
   "metadata": {},
   "outputs": [
    {
     "name": "stdout",
     "output_type": "stream",
     "text": [
      "2200 2266.8135102028837\n",
      "350 407.91177710697406\n"
     ]
    }
   ],
   "source": [
    "# measure the location and scale directly from the simulated data\n",
    "print(realcenter,biweight_location(realZ))\n",
    "print(realsigma,biweight_scale(realZ))"
   ]
  },
  {
   "cell_type": "code",
   "execution_count": 55,
   "metadata": {},
   "outputs": [],
   "source": [
    "def get_biweight(z,nsigma=2):\n",
    "    \"\"\"\n",
    "    PARAMS:\n",
    "    z : redshift of galaxies in the vicinity of a group\n",
    "    nsigma : sigma to use in sigma clipping\n",
    "    \n",
    "    RETURN:\n",
    "    c : biweight center\n",
    "    s : biweight scale\n",
    "    masked_data : input array, as masked array, where mask=True indicated clipped data\n",
    "    \"\"\"\n",
    "    from astropy.stats import sigma_clip\n",
    "    #sigclip = SigmaClip(sigma=scale_cut,maxiters=10,cenfunc=biweight_location,stdfunc=biweight_scale)\n",
    "    good_data = sigma_clip(z, sigma=nsigma, maxiters=10, stdfunc=biweight_scale,cenfunc=biweight_location)\n",
    "    c = biweight_location[good_data[~good_data.mask]]\n",
    "    s = biweight_scale[good_data[~good_data.mask]]\n",
    "    return c,s, good_data\n"
   ]
  },
  {
   "cell_type": "markdown",
   "metadata": {},
   "source": [
    "# Next Steps\n",
    "\n",
    "* read in file with RA, DEC, and vr of groups\n",
    "* read in NSA\n",
    "* convert theta to Mpc at distance of group\n",
    "* for each group, cut NSA within dv < 4000 and dr < 1 Mpc\n",
    "* feed cut sample into biweight calculator\n",
    "\n",
    "Can use \n",
    "\n",
    "`uat_all_galaxies_fov.py`"
   ]
  },
  {
   "cell_type": "code",
   "execution_count": null,
   "metadata": {},
   "outputs": [],
   "source": []
  }
 ],
 "metadata": {
  "kernelspec": {
   "display_name": "Python 3",
   "language": "python",
   "name": "python3"
  },
  "language_info": {
   "codemirror_mode": {
    "name": "ipython",
    "version": 3
   },
   "file_extension": ".py",
   "mimetype": "text/x-python",
   "name": "python",
   "nbconvert_exporter": "python",
   "pygments_lexer": "ipython3",
   "version": "3.7.4"
  }
 },
 "nbformat": 4,
 "nbformat_minor": 4
}
